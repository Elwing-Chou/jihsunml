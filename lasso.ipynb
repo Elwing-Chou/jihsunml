{
 "cells": [
  {
   "cell_type": "markdown",
   "metadata": {},
   "source": [
    "# 進階房價預測"
   ]
  },
  {
   "cell_type": "code",
   "execution_count": 1,
   "metadata": {},
   "outputs": [],
   "source": [
    "import matplotlib.pyplot as plt\n",
    "\n",
    "import numpy as np\n",
    "\n",
    "import pandas as pd\n",
    "\n",
    "\n",
    "\n",
    "from scipy.stats import skew\n",
    "\n",
    "from scipy.special import boxcox1p\n",
    "\n",
    "from sklearn.feature_selection import RFECV\n",
    "\n",
    "from sklearn.linear_model import Lasso\n",
    "\n",
    "from sklearn.model_selection import cross_val_score\n",
    "\n",
    "\n",
    "\n",
    "train = pd.read_csv('train.csv')\n",
    "\n",
    "test = pd.read_csv('test.csv')\n",
    "\n",
    "\n",
    "\n"
   ]
  },
  {
   "cell_type": "code",
   "execution_count": 2,
   "metadata": {},
   "outputs": [
    {
     "data": {
      "text/plain": [
       "<matplotlib.legend.Legend at 0x11459e908>"
      ]
     },
     "execution_count": 2,
     "metadata": {},
     "output_type": "execute_result"
    },
    {
     "data": {
      "image/png": "[encoded data removed]",
      "text/plain": [
       "<matplotlib.figure.Figure at 0x11459e978>"
      ]
     },
     "metadata": {},
     "output_type": "display_data"
    }
   ],
   "source": [
    "import seaborn as sns\n",
    "from scipy.stats import norm\n",
    "import matplotlib.pyplot as plt\n",
    "%matplotlib inline\n",
    "sns.distplot(train['SalePrice'])\n",
    "plt.legend([\"fit\", \"dist\"])"
   ]
  },
  {
   "cell_type": "code",
   "execution_count": 3,
   "metadata": {},
   "outputs": [
    {
     "data": {
      "text/plain": [
       "<matplotlib.axes._subplots.AxesSubplot at 0x11459e8d0>"
      ]
     },
     "execution_count": 3,
     "metadata": {},
     "output_type": "execute_result"
    },
    {
     "data": {
      "image/png": "[encoded data removed]",
      "text/plain": [
       "<matplotlib.figure.Figure at 0x10623d710>"
      ]
     },
     "metadata": {},
     "output_type": "display_data"
    }
   ],
   "source": [
    "sns.distplot(np.log1p(train[\"SalePrice\"]))"
   ]
  },
  {
   "cell_type": "code",
   "execution_count": 4,
   "metadata": {},
   "outputs": [],
   "source": [
    "# remove outliers\n",
    "\n",
    "#train = train[~((train['GrLivArea'] > 4000) & (train['SalePrice'] < 300000))]\n",
    "\n",
    "\n",
    "\n",
    "all_data = pd.concat((train.loc[:,'MSSubClass':'SaleCondition'],\n",
    "\n",
    "                      test.loc[:,'MSSubClass':'SaleCondition']))\n",
    "\n",
    "\n",
    "\n",
    "# drop some features to avoid multicollinearity\n",
    "\n",
    "#all_data.drop(['1stFlrSF', 'GarageArea', 'TotRmsAbvGrd'], axis=1, inplace=True)\n",
    "\n",
    "\n",
    "\n",
    "train[\"SalePrice\"] = np.log1p(train[\"SalePrice\"])\n",
    "\n",
    "\n",
    "\n",
    "numeric_feats = all_data.dtypes[all_data.dtypes != \"object\"].drop([\"MSSubClass\"]).index\n",
    "\n",
    "\n",
    "\n",
    "skewed_feats = train[numeric_feats].apply(lambda x: skew(x.dropna())) #compute skewness\n",
    "\n",
    "skewed_feats = skewed_feats[skewed_feats > 0.65]\n",
    "\n",
    "skewed_feats = skewed_feats.index\n",
    "\n",
    "\n",
    "\n",
    "all_data[skewed_feats] = boxcox1p(all_data[skewed_feats], 0.15)\n",
    "\n",
    "\n",
    "\n",
    "\n",
    "all_data = pd.get_dummies(all_data)\n",
    "all_data = pd.get_dummies(all_data,  columns=[\"MSSubClass\"])\n",
    "\n",
    "\n",
    "\n",
    "all_data = all_data.fillna(all_data.mean())\n",
    "#from sklearn.experimental import enable_iterative_imputer\n",
    "#from sklearn.impute import IterativeImputer\n",
    "#imp = IterativeImputer()\n",
    "#all_data = imp.fit_transform(all_data)  \n",
    "\n",
    "\n",
    "\n",
    "\n",
    "X_train = all_data[:train.shape[0]]\n",
    "\n",
    "X_test = all_data[train.shape[0]:]\n",
    "\n",
    "y = train.SalePrice\n",
    "\n",
    "\n",
    "\n",
    "\n",
    "\n",
    "#### models selection\n",
    "\n",
    "lasso = Lasso(alpha=0.0004)\n",
    "\n",
    "model = lasso\n",
    "\n",
    "\n",
    "\n",
    "### prediction\n",
    "\n",
    "model.fit(X_train, y)\n",
    "\n",
    "\n",
    "\n",
    "preds = np.expm1(model.predict(X_test))\n",
    "\n",
    "solution = pd.DataFrame({\"id\":test.Id, \"SalePrice\":preds})\n",
    "\n",
    "solution.to_csv(\"full_features_lasso_new.csv\", index = False)"
   ]
  },
  {
   "cell_type": "code",
   "execution_count": null,
   "metadata": {},
   "outputs": [],
   "source": []
  }
 ],
 "metadata": {
  "kernelspec": {
   "display_name": "py36default",
   "language": "python",
   "name": "py36default"
  },
  "language_info": {
   "codemirror_mode": {
    "name": "ipython",
    "version": 3
   },
   "file_extension": ".py",
   "mimetype": "text/x-python",
   "name": "python",
   "nbconvert_exporter": "python",
   "pygments_lexer": "ipython3",
   "version": "3.6.0"
  }
 },
 "nbformat": 4,
 "nbformat_minor": 2
}
